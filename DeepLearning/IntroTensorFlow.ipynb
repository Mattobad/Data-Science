{
 "cells": [
  {
   "cell_type": "code",
   "execution_count": 1,
   "metadata": {},
   "outputs": [],
   "source": [
    "import numpy as np\n",
    "import matplotlib.pyplot as plt\n",
    "import tensorflow as tf"
   ]
  },
  {
   "cell_type": "markdown",
   "metadata": {},
   "source": [
    "#### Data Generation"
   ]
  },
  {
   "cell_type": "code",
   "execution_count": 7,
   "metadata": {},
   "outputs": [
    {
     "name": "stdout",
     "output_type": "stream",
     "text": [
      "(1000, 1)\n",
      "(1000, 1)\n",
      "[[ 8.54278741 -5.13819765]\n",
      " [ 1.71354185  1.08398181]]\n"
     ]
    }
   ],
   "source": [
    "observations = 1000\n",
    "\n",
    "xs = np.random.uniform(low=-10,high=10,size=(observations,1))\n",
    "zs = np.random.uniform(-10,10,(observations,1))\n",
    "print(xs.shape)\n",
    "print(zs.shape)\n",
    "\n",
    "generated_inputs = np.column_stack((xs,zs))\n",
    "print(generated_inputs[:2])\n",
    "\n",
    "noise = np.random.uniform(-1,1,(observations,1))\n",
    "\n",
    "generated_targets = 2*xs - 3*zs + 5 + noise\n",
    "\n",
    "np.savez('TF_intro',inputs=generated_inputs, targets=generated_targets)"
   ]
  },
  {
   "cell_type": "markdown",
   "metadata": {},
   "source": [
    "#### Solving with TensorFlow"
   ]
  },
  {
   "cell_type": "code",
   "execution_count": 8,
   "metadata": {},
   "outputs": [],
   "source": [
    "training_data = np.load('TF_intro.npz')"
   ]
  },
  {
   "cell_type": "code",
   "execution_count": 10,
   "metadata": {},
   "outputs": [
    {
     "name": "stdout",
     "output_type": "stream",
     "text": [
      "Train on 1000 samples\n",
      "Epoch 1/100\n",
      "1000/1000 - 0s - loss: 36.9730\n",
      "Epoch 2/100\n",
      "1000/1000 - 0s - loss: 4.4944\n",
      "Epoch 3/100\n",
      "1000/1000 - 0s - loss: 1.4651\n",
      "Epoch 4/100\n",
      "1000/1000 - 0s - loss: 0.6319\n",
      "Epoch 5/100\n",
      "1000/1000 - 0s - loss: 0.4052\n",
      "Epoch 6/100\n",
      "1000/1000 - 0s - loss: 0.3482\n",
      "Epoch 7/100\n",
      "1000/1000 - 0s - loss: 0.3312\n",
      "Epoch 8/100\n",
      "1000/1000 - 0s - loss: 0.3248\n",
      "Epoch 9/100\n",
      "1000/1000 - 0s - loss: 0.3256\n",
      "Epoch 10/100\n",
      "1000/1000 - 0s - loss: 0.3303\n",
      "Epoch 11/100\n",
      "1000/1000 - 0s - loss: 0.3314\n",
      "Epoch 12/100\n",
      "1000/1000 - 0s - loss: 0.3285\n",
      "Epoch 13/100\n",
      "1000/1000 - 0s - loss: 0.3314\n",
      "Epoch 14/100\n",
      "1000/1000 - 0s - loss: 0.3269\n",
      "Epoch 15/100\n",
      "1000/1000 - 0s - loss: 0.3253\n",
      "Epoch 16/100\n",
      "1000/1000 - 0s - loss: 0.3246\n",
      "Epoch 17/100\n",
      "1000/1000 - 0s - loss: 0.3284\n",
      "Epoch 18/100\n",
      "1000/1000 - 0s - loss: 0.3275\n",
      "Epoch 19/100\n",
      "1000/1000 - 0s - loss: 0.3241\n",
      "Epoch 20/100\n",
      "1000/1000 - 0s - loss: 0.3206\n",
      "Epoch 21/100\n",
      "1000/1000 - 0s - loss: 0.3244\n",
      "Epoch 22/100\n",
      "1000/1000 - 0s - loss: 0.3258\n",
      "Epoch 23/100\n",
      "1000/1000 - 0s - loss: 0.3260\n",
      "Epoch 24/100\n",
      "1000/1000 - 0s - loss: 0.3258\n",
      "Epoch 25/100\n",
      "1000/1000 - 0s - loss: 0.3267\n",
      "Epoch 26/100\n",
      "1000/1000 - 0s - loss: 0.3272\n",
      "Epoch 27/100\n",
      "1000/1000 - 0s - loss: 0.3279\n",
      "Epoch 28/100\n",
      "1000/1000 - 0s - loss: 0.3244\n",
      "Epoch 29/100\n",
      "1000/1000 - 0s - loss: 0.3310\n",
      "Epoch 30/100\n",
      "1000/1000 - 0s - loss: 0.3315\n",
      "Epoch 31/100\n",
      "1000/1000 - 0s - loss: 0.3258\n",
      "Epoch 32/100\n",
      "1000/1000 - 0s - loss: 0.3299\n",
      "Epoch 33/100\n",
      "1000/1000 - 0s - loss: 0.3252\n",
      "Epoch 34/100\n",
      "1000/1000 - 0s - loss: 0.3276\n",
      "Epoch 35/100\n",
      "1000/1000 - 0s - loss: 0.3265\n",
      "Epoch 36/100\n",
      "1000/1000 - 0s - loss: 0.3258\n",
      "Epoch 37/100\n",
      "1000/1000 - 0s - loss: 0.3223\n",
      "Epoch 38/100\n",
      "1000/1000 - 0s - loss: 0.3300\n",
      "Epoch 39/100\n",
      "1000/1000 - 0s - loss: 0.3348\n",
      "Epoch 40/100\n",
      "1000/1000 - 0s - loss: 0.3264\n",
      "Epoch 41/100\n",
      "1000/1000 - 0s - loss: 0.3266\n",
      "Epoch 42/100\n",
      "1000/1000 - 0s - loss: 0.3261\n",
      "Epoch 43/100\n",
      "1000/1000 - 0s - loss: 0.3248\n",
      "Epoch 44/100\n",
      "1000/1000 - 0s - loss: 0.3277\n",
      "Epoch 45/100\n",
      "1000/1000 - 0s - loss: 0.3282\n",
      "Epoch 46/100\n",
      "1000/1000 - 0s - loss: 0.3233\n",
      "Epoch 47/100\n",
      "1000/1000 - 0s - loss: 0.3300\n",
      "Epoch 48/100\n",
      "1000/1000 - 0s - loss: 0.3283\n",
      "Epoch 49/100\n",
      "1000/1000 - 0s - loss: 0.3248\n",
      "Epoch 50/100\n",
      "1000/1000 - 0s - loss: 0.3314\n",
      "Epoch 51/100\n",
      "1000/1000 - 0s - loss: 0.3257\n",
      "Epoch 52/100\n",
      "1000/1000 - 0s - loss: 0.3240\n",
      "Epoch 53/100\n",
      "1000/1000 - 0s - loss: 0.3259\n",
      "Epoch 54/100\n",
      "1000/1000 - 0s - loss: 0.3257\n",
      "Epoch 55/100\n",
      "1000/1000 - 0s - loss: 0.3284\n",
      "Epoch 56/100\n",
      "1000/1000 - 0s - loss: 0.3313\n",
      "Epoch 57/100\n",
      "1000/1000 - 0s - loss: 0.3300\n",
      "Epoch 58/100\n",
      "1000/1000 - 0s - loss: 0.3277\n",
      "Epoch 59/100\n",
      "1000/1000 - 0s - loss: 0.3281\n",
      "Epoch 60/100\n",
      "1000/1000 - 0s - loss: 0.3265\n",
      "Epoch 61/100\n",
      "1000/1000 - 0s - loss: 0.3279\n",
      "Epoch 62/100\n",
      "1000/1000 - 0s - loss: 0.3356\n",
      "Epoch 63/100\n",
      "1000/1000 - 0s - loss: 0.3284\n",
      "Epoch 64/100\n",
      "1000/1000 - 0s - loss: 0.3251\n",
      "Epoch 65/100\n",
      "1000/1000 - 0s - loss: 0.3254\n",
      "Epoch 66/100\n",
      "1000/1000 - 0s - loss: 0.3214\n",
      "Epoch 67/100\n",
      "1000/1000 - 0s - loss: 0.3303\n",
      "Epoch 68/100\n",
      "1000/1000 - 0s - loss: 0.3362\n",
      "Epoch 69/100\n",
      "1000/1000 - 0s - loss: 0.3292\n",
      "Epoch 70/100\n",
      "1000/1000 - 0s - loss: 0.3284\n",
      "Epoch 71/100\n",
      "1000/1000 - 0s - loss: 0.3217\n",
      "Epoch 72/100\n",
      "1000/1000 - 0s - loss: 0.3252\n",
      "Epoch 73/100\n",
      "1000/1000 - 0s - loss: 0.3241\n",
      "Epoch 74/100\n",
      "1000/1000 - 0s - loss: 0.3279\n",
      "Epoch 75/100\n",
      "1000/1000 - 0s - loss: 0.3253\n",
      "Epoch 76/100\n",
      "1000/1000 - 0s - loss: 0.3194\n",
      "Epoch 77/100\n",
      "1000/1000 - 0s - loss: 0.3302\n",
      "Epoch 78/100\n",
      "1000/1000 - 0s - loss: 0.3254\n",
      "Epoch 79/100\n",
      "1000/1000 - 0s - loss: 0.3240\n",
      "Epoch 80/100\n",
      "1000/1000 - 0s - loss: 0.3231\n",
      "Epoch 81/100\n",
      "1000/1000 - 0s - loss: 0.3283\n",
      "Epoch 82/100\n",
      "1000/1000 - 0s - loss: 0.3380\n",
      "Epoch 83/100\n",
      "1000/1000 - 0s - loss: 0.3234\n",
      "Epoch 84/100\n",
      "1000/1000 - 0s - loss: 0.3254\n",
      "Epoch 85/100\n",
      "1000/1000 - 0s - loss: 0.3254\n",
      "Epoch 86/100\n",
      "1000/1000 - 0s - loss: 0.3413\n",
      "Epoch 87/100\n",
      "1000/1000 - 0s - loss: 0.3236\n",
      "Epoch 88/100\n",
      "1000/1000 - 0s - loss: 0.3248\n",
      "Epoch 89/100\n",
      "1000/1000 - 0s - loss: 0.3269\n",
      "Epoch 90/100\n",
      "1000/1000 - 0s - loss: 0.3232\n",
      "Epoch 91/100\n",
      "1000/1000 - 0s - loss: 0.3359\n",
      "Epoch 92/100\n",
      "1000/1000 - 0s - loss: 0.3257\n",
      "Epoch 93/100\n",
      "1000/1000 - 0s - loss: 0.3290\n",
      "Epoch 94/100\n",
      "1000/1000 - 0s - loss: 0.3257\n",
      "Epoch 95/100\n",
      "1000/1000 - 0s - loss: 0.3315\n",
      "Epoch 96/100\n",
      "1000/1000 - 0s - loss: 0.3289\n",
      "Epoch 97/100\n",
      "1000/1000 - 0s - loss: 0.3285\n",
      "Epoch 98/100\n",
      "1000/1000 - 0s - loss: 0.3287\n",
      "Epoch 99/100\n",
      "1000/1000 - 0s - loss: 0.3290\n",
      "Epoch 100/100\n",
      "1000/1000 - 0s - loss: 0.3265\n"
     ]
    },
    {
     "data": {
      "text/plain": [
       "<tensorflow.python.keras.callbacks.History at 0x25702d71b08>"
      ]
     },
     "execution_count": 10,
     "metadata": {},
     "output_type": "execute_result"
    }
   ],
   "source": [
    "input_size = 2\n",
    "output_size = 1\n",
    "\n",
    "# model\n",
    "'''\n",
    "model = tf.keras.Sequential([\n",
    "                            tf.keras.layers.Dense(output_size)  \n",
    "                            ])\n",
    "'''\n",
    "model = tf.keras.Sequential([\n",
    "                            tf.keras.layers.Dense(output_size,\n",
    "                                                    kernel_initializer =tf.random_uniform_initializer(minval=-0.1,maxval=0.1),\n",
    "                                                    bias_initializer = tf.random_uniform_initializer(minval=-0.1,maxval=0.1)\n",
    "                            )  \n",
    "                            ])\n",
    "# object function = loss, optimization\n",
    "\n",
    "custom_optimizer = tf.keras.optimizers.SGD(learning_rate=0.02)\n",
    "#model.compile(optimizer ='sgd',loss='mean_squared_error')    # sgd => Stochastic Gradient Descent\n",
    "\n",
    "model.compile(optimizer =custom_optimizer,loss='mean_squared_error')\n",
    "# fitting the model to data\n",
    "model.fit(training_data['inputs'],training_data['targets'],epochs=100,verbose=2)"
   ]
  },
  {
   "cell_type": "markdown",
   "metadata": {},
   "source": [
    "output = np.dot(inputs,weights) + bias\n",
    "* `tf.keras.layers.Dense(output size)` takes the inputs provided to the model and calculates the dot product of the inputs and the weights and adds the bias -> also applies activation function(optional)\n",
    "* `model.compile(optimizer,loss)` configures the model for training -> l2-norm loss = Least sum of squares(least sum of squared error)\n",
    "* `Epoch` = iteration over the full dataset\n",
    "* `verbose` = 0(stands for 'silent' or no output about the training is displayed), 1(for 'progress bar'), 2 (for 'one line per epoch')\n"
   ]
  },
  {
   "cell_type": "markdown",
   "metadata": {},
   "source": [
    "#### Extract the weights and bias"
   ]
  },
  {
   "cell_type": "code",
   "execution_count": 11,
   "metadata": {},
   "outputs": [
    {
     "data": {
      "text/plain": [
       "[array([[ 2.010927],\n",
       "        [-3.010079]], dtype=float32), array([5.025191], dtype=float32)]"
      ]
     },
     "execution_count": 11,
     "metadata": {},
     "output_type": "execute_result"
    }
   ],
   "source": [
    "model.layers[0].get_weights()"
   ]
  },
  {
   "cell_type": "code",
   "execution_count": 13,
   "metadata": {},
   "outputs": [
    {
     "name": "stdout",
     "output_type": "stream",
     "text": [
      "Predicted weights = [2.010927],[-3.010079]\n",
      "Predicted bias =  [5.025191]\n"
     ]
    }
   ],
   "source": [
    "weights = model.layers[0].get_weights()[0]\n",
    "bias = model.layers[0].get_weights()[1]\n",
    "print(f\"Predicted weights = {weights[0]},{weights[1]}\")\n",
    "print(\"Predicted bias = \",bias)"
   ]
  },
  {
   "cell_type": "markdown",
   "metadata": {},
   "source": [
    "#### Extract the outputs (make predictions)"
   ]
  },
  {
   "cell_type": "code",
   "execution_count": 23,
   "metadata": {},
   "outputs": [
    {
     "ename": "AttributeError",
     "evalue": "'tensorflow.python.framework.ops.EagerTensor' object has no attribute 'round'",
     "output_type": "error",
     "traceback": [
      "\u001b[1;31m---------------------------------------------------------------------------\u001b[0m",
      "\u001b[1;31mAttributeError\u001b[0m                            Traceback (most recent call last)",
      "\u001b[1;32m<ipython-input-23-e5e72b376ac0>\u001b[0m in \u001b[0;36m<module>\u001b[1;34m\u001b[0m\n\u001b[1;32m----> 1\u001b[1;33m \u001b[0mpredicted_values\u001b[0m \u001b[1;33m=\u001b[0m\u001b[0mmodel\u001b[0m\u001b[1;33m.\u001b[0m\u001b[0mpredict_on_batch\u001b[0m\u001b[1;33m(\u001b[0m\u001b[0mtraining_data\u001b[0m\u001b[1;33m[\u001b[0m\u001b[1;34m'inputs'\u001b[0m\u001b[1;33m]\u001b[0m\u001b[1;33m)\u001b[0m\u001b[1;33m.\u001b[0m\u001b[0mround\u001b[0m\u001b[1;33m(\u001b[0m\u001b[1;36m1\u001b[0m\u001b[1;33m)\u001b[0m\u001b[1;33m\u001b[0m\u001b[1;33m\u001b[0m\u001b[0m\n\u001b[0m\u001b[0;32m      2\u001b[0m \u001b[0mpredicted_values\u001b[0m\u001b[1;33m[\u001b[0m\u001b[1;33m:\u001b[0m\u001b[1;36m5\u001b[0m\u001b[1;33m]\u001b[0m\u001b[1;33m\u001b[0m\u001b[1;33m\u001b[0m\u001b[0m\n",
      "\u001b[1;31mAttributeError\u001b[0m: 'tensorflow.python.framework.ops.EagerTensor' object has no attribute 'round'"
     ]
    }
   ],
   "source": [
    "predicted_values =model.predict_on_batch(training_data['inputs']).round(1)\n",
    "predicted_values[:5]"
   ]
  },
  {
   "cell_type": "code",
   "execution_count": 19,
   "metadata": {},
   "outputs": [
    {
     "data": {
      "text/plain": [
       "array([[ 37.7],\n",
       "       [  5.2],\n",
       "       [ 26.2],\n",
       "       [-14. ],\n",
       "       [ 16.7]], dtype=float32)"
      ]
     },
     "execution_count": 19,
     "metadata": {},
     "output_type": "execute_result"
    }
   ],
   "source": [
    "predicted_values = np.array(model.predict_on_batch(training_data['inputs']))\n",
    "predicted_values.round(1)[:5]"
   ]
  },
  {
   "cell_type": "code",
   "execution_count": 21,
   "metadata": {},
   "outputs": [
    {
     "data": {
      "text/plain": [
       "array([[ 38.1],\n",
       "       [  5.1],\n",
       "       [ 25.6],\n",
       "       [-14.8],\n",
       "       [ 17.4]])"
      ]
     },
     "execution_count": 21,
     "metadata": {},
     "output_type": "execute_result"
    }
   ],
   "source": [
    "# targets/ original\n",
    "training_data['targets'].round(1)[:5]"
   ]
  },
  {
   "cell_type": "markdown",
   "metadata": {},
   "source": [
    "#### PLotting the data"
   ]
  },
  {
   "cell_type": "code",
   "execution_count": 24,
   "metadata": {},
   "outputs": [
    {
     "data": {
      "image/png": "[encoded data removed]",
      "text/plain": [
       "<Figure size 432x288 with 1 Axes>"
      ]
     },
     "metadata": {
      "needs_background": "light"
     },
     "output_type": "display_data"
    }
   ],
   "source": [
    "\n",
    "plt.plot(np.squeeze(model.predict_on_batch(training_data['inputs'])),np.squeeze(training_data['targets']))\n",
    "plt.xlabel('outputs')\n",
    "plt.ylabel('targets')\n",
    "plt.show()"
   ]
  },
  {
   "cell_type": "code",
   "execution_count": null,
   "metadata": {},
   "outputs": [],
   "source": []
  }
 ],
 "metadata": {
  "kernelspec": {
   "display_name": "Python 3",
   "language": "python",
   "name": "python3"
  },
  "language_info": {
   "codemirror_mode": {
    "name": "ipython",
    "version": 3
   },
   "file_extension": ".py",
   "mimetype": "text/x-python",
   "name": "python",
   "nbconvert_exporter": "python",
   "pygments_lexer": "ipython3",
   "version": "3.7.6"
  }
 },
 "nbformat": 4,
 "nbformat_minor": 2
}
