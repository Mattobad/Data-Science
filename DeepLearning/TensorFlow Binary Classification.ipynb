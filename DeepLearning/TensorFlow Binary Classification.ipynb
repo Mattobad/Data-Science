{
 "cells": [
  {
   "cell_type": "markdown",
   "metadata": {},
   "source": [
    "### Data preprocessing"
   ]
  },
  {
   "cell_type": "code",
   "execution_count": 18,
   "metadata": {},
   "outputs": [],
   "source": [
    "import numpy as np\n",
    "from sklearn import preprocessing"
   ]
  },
  {
   "cell_type": "code",
   "execution_count": 14,
   "metadata": {},
   "outputs": [
    {
     "data": {
      "text/plain": [
       "((14084, 10), (14084,))"
      ]
     },
     "execution_count": 14,
     "metadata": {},
     "output_type": "execute_result"
    }
   ],
   "source": [
    "raw_csv_data = np.loadtxt('data/Audiobooks-data.csv',delimiter=',')\n",
    "\n",
    "unscaled_inputs_all = raw_csv_data[:,1:-1] #[row,column]\n",
    "targets_all = raw_csv_data[:,-1]\n",
    "\n",
    "unscaled_inputs_all.shape, targets_all.shape"
   ]
  },
  {
   "cell_type": "markdown",
   "metadata": {},
   "source": [
    "#### Balance the dataset"
   ]
  },
  {
   "cell_type": "code",
   "execution_count": 12,
   "metadata": {},
   "outputs": [
    {
     "data": {
      "text/plain": [
       "((4474, 10), (4474,))"
      ]
     },
     "execution_count": 12,
     "metadata": {},
     "output_type": "execute_result"
    }
   ],
   "source": [
    "num_one_targets = int(np.sum(targets_all))\n",
    "zero_targets_counter = 0\n",
    "indices_to_remove = []\n",
    "\n",
    "for i in range(targets_all.shape[0]):\n",
    "    if targets_all[i] == 0:\n",
    "        zero_targets_counter +=1\n",
    "        if zero_targets_counter > num_one_targets:\n",
    "            indices_to_remove.append(i)\n",
    "\n",
    "unscaled_inputs_equal_priors = np.delete(unscaled_inputs_all,indices_to_remove,axis=0) # axis=0 ->row\n",
    "targets_equal_priors = np.delete(targets_all,indices_to_remove,axis=0)\n",
    "\n",
    "unscaled_inputs_equal_priors.shape, targets_equal_priors.shape"
   ]
  },
  {
   "cell_type": "markdown",
   "metadata": {},
   "source": [
    "#### Standardize the inputs"
   ]
  },
  {
   "cell_type": "code",
   "execution_count": 15,
   "metadata": {},
   "outputs": [],
   "source": [
    "scaled_inputs = preprocessing.scale(unscaled_inputs_equal_priors)"
   ]
  },
  {
   "cell_type": "markdown",
   "metadata": {},
   "source": [
    "#### Shuffle the data\n",
    "* to work for the batches as to prevent homogeneous data\n",
    "* `np.arange([start],stop)` is a method that returns a evenly spaced values within a given interval"
   ]
  },
  {
   "cell_type": "code",
   "execution_count": 17,
   "metadata": {},
   "outputs": [],
   "source": [
    "shuffled_indices = np.arange(scaled_inputs.shape[0])\n",
    "np.random.shuffle(shuffled_indices)\n",
    "\n",
    "shuffled_inputs = scaled_inputs[shuffled_indices]\n",
    "shuffled_targets = targets_equal_priors[shuffled_indices]"
   ]
  },
  {
   "cell_type": "markdown",
   "metadata": {},
   "source": [
    "#### Split the dataset into train, validation, and test"
   ]
  },
  {
   "cell_type": "code",
   "execution_count": 19,
   "metadata": {},
   "outputs": [
    {
     "name": "stdout",
     "output_type": "stream",
     "text": [
      "1774.0 3579 0.4956691813355686\n",
      "219.0 447 0.4899328859060403\n",
      "244.0 448 0.5446428571428571\n"
     ]
    }
   ],
   "source": [
    "samples_count = shuffled_inputs.shape[0]\n",
    "\n",
    "# dividing the data sets\n",
    "train_samples_count = int(0.8*samples_count)\n",
    "validation_samples_count = int(0.1*samples_count)\n",
    "test_samples_count = samples_count - train_samples_count - validation_samples_count\n",
    "\n",
    "# splitting the data\n",
    "#training\n",
    "train_inputs = shuffled_inputs[:train_samples_count]\n",
    "train_targets = shuffled_targets[:train_samples_count]\n",
    "# validation\n",
    "validation_inputs = shuffled_inputs[train_samples_count:train_samples_count+validation_samples_count]\n",
    "validation_targets = shuffled_targets[train_samples_count:train_samples_count+validation_samples_count]\n",
    "#test\n",
    "test_inputs = shuffled_inputs[train_samples_count+validation_samples_count:]\n",
    "test_targets = shuffled_targets[train_samples_count+validation_samples_count:]\n",
    "\n",
    "print(np.sum(train_targets),train_samples_count,np.sum(train_targets)/train_samples_count)\n",
    "print(np.sum(validation_targets),validation_samples_count,np.sum(validation_targets)/validation_samples_count)\n",
    "print(np.sum(test_targets),test_samples_count,np.sum(test_targets)/test_samples_count)"
   ]
  },
  {
   "cell_type": "markdown",
   "metadata": {},
   "source": [
    "#### Save the three datasets in *.npz"
   ]
  },
  {
   "cell_type": "code",
   "execution_count": 20,
   "metadata": {},
   "outputs": [],
   "source": [
    "np.savez('Audiobooks_data_train',inputs=train_inputs,targets=train_targets)\n",
    "np.savez('Audiobooks_data_validation',inputs=validation_inputs,targets=validation_targets)\n",
    "np.savez('Audioboos_data_test',inputs=test_inputs,targets=test_targets)"
   ]
  },
  {
   "cell_type": "markdown",
   "metadata": {},
   "source": [
    "### Create the machine learning algorithm"
   ]
  },
  {
   "cell_type": "code",
   "execution_count": 21,
   "metadata": {},
   "outputs": [],
   "source": [
    "import tensorflow as tf"
   ]
  },
  {
   "cell_type": "markdown",
   "metadata": {},
   "source": [
    "#### Data"
   ]
  },
  {
   "cell_type": "code",
   "execution_count": 24,
   "metadata": {},
   "outputs": [],
   "source": [
    "# Train data\n",
    "npz = np.load('Audiobooks_data_train.npz')\n",
    "\n",
    "train_inputs = npz['inputs'].astype(np.float)  # we expect all the inputs be float for the ML\n",
    "train_targets = npz['targets'].astype(np.int)\n",
    "\n",
    "# Validation data\n",
    "npz = np.load('Audiobooks_data_validation.npz')\n",
    "\n",
    "validation_inputs,validation_targets = npz['inputs'].astype(np.float),npz['targets'].astype(np.int)\n",
    "\n",
    "# test data\n",
    "npz = np.load('Audioboos_data_test.npz')\n",
    "\n",
    "test_inputs, test_targets = npz['inputs'].astype(np.float),npz['targets'].astype(np.int)\n"
   ]
  },
  {
   "cell_type": "markdown",
   "metadata": {},
   "source": [
    "#### Create the model\n",
    "Outline, optimizers, loss, early stopping and training\n",
    "\n",
    "* `tf.keras.callbacks.EarlyStopping(patience)` configures the early stopping mechanism of the algorithm -> `patience` lets us decide how many consecutive increases we can tolerate"
   ]
  },
  {
   "cell_type": "code",
   "execution_count": 27,
   "metadata": {},
   "outputs": [
    {
     "name": "stdout",
     "output_type": "stream",
     "text": [
      "Train on 3579 samples, validate on 447 samples\n",
      "Epoch 1/100\n",
      "3579/3579 - 0s - loss: 0.6174 - accuracy: 0.6597 - val_loss: 0.5299 - val_accuracy: 0.7472\n",
      "Epoch 2/100\n",
      "3579/3579 - 0s - loss: 0.4866 - accuracy: 0.7555 - val_loss: 0.4393 - val_accuracy: 0.8009\n",
      "Epoch 3/100\n",
      "3579/3579 - 0s - loss: 0.4257 - accuracy: 0.7776 - val_loss: 0.3928 - val_accuracy: 0.8143\n",
      "Epoch 4/100\n",
      "3579/3579 - 0s - loss: 0.3971 - accuracy: 0.7896 - val_loss: 0.3647 - val_accuracy: 0.8143\n",
      "Epoch 5/100\n",
      "3579/3579 - 0s - loss: 0.3791 - accuracy: 0.8025 - val_loss: 0.3555 - val_accuracy: 0.8277\n",
      "Epoch 6/100\n",
      "3579/3579 - 0s - loss: 0.3683 - accuracy: 0.8025 - val_loss: 0.3341 - val_accuracy: 0.8412\n",
      "Epoch 7/100\n",
      "3579/3579 - 0s - loss: 0.3609 - accuracy: 0.8058 - val_loss: 0.3253 - val_accuracy: 0.8300\n",
      "Epoch 8/100\n",
      "3579/3579 - 0s - loss: 0.3545 - accuracy: 0.8120 - val_loss: 0.3221 - val_accuracy: 0.8322\n",
      "Epoch 9/100\n",
      "3579/3579 - 0s - loss: 0.3489 - accuracy: 0.8153 - val_loss: 0.3170 - val_accuracy: 0.8345\n",
      "Epoch 10/100\n",
      "3579/3579 - 0s - loss: 0.3469 - accuracy: 0.8139 - val_loss: 0.3120 - val_accuracy: 0.8434\n",
      "Epoch 11/100\n",
      "3579/3579 - 0s - loss: 0.3432 - accuracy: 0.8139 - val_loss: 0.3099 - val_accuracy: 0.8412\n",
      "Epoch 12/100\n",
      "3579/3579 - 0s - loss: 0.3419 - accuracy: 0.8080 - val_loss: 0.3036 - val_accuracy: 0.8546\n",
      "Epoch 13/100\n",
      "3579/3579 - 0s - loss: 0.3392 - accuracy: 0.8161 - val_loss: 0.3062 - val_accuracy: 0.8434\n",
      "Epoch 14/100\n",
      "3579/3579 - 0s - loss: 0.3354 - accuracy: 0.8187 - val_loss: 0.3111 - val_accuracy: 0.8501\n"
     ]
    },
    {
     "data": {
      "text/plain": [
       "<tensorflow.python.keras.callbacks.History at 0x2693687f6c8>"
      ]
     },
     "execution_count": 27,
     "metadata": {},
     "output_type": "execute_result"
    }
   ],
   "source": [
    "input_size = 10\n",
    "output_size = 2\n",
    "hidden_layer_size = 50\n",
    "\n",
    "model = tf.keras.Sequential([\n",
    "    tf.keras.layers.Dense(hidden_layer_size,activation='relu'),\n",
    "    tf.keras.layers.Dense(hidden_layer_size,activation='relu'),\n",
    "    tf.keras.layers.Dense(output_size,activation='softmax')\n",
    "])\n",
    "\n",
    "# optimizer and loss\n",
    "model.compile(optimizer='adam', loss='sparse_categorical_crossentropy',metrics=['accuracy'])\n",
    "\n",
    "batch_size = 100\n",
    "\n",
    "max_epochs = 100\n",
    "\n",
    "#preventing overfitting\n",
    "early_stopping = tf.keras.callbacks.EarlyStopping(patience=2)\n",
    "\n",
    "model.fit(train_inputs,\n",
    "         train_targets,\n",
    "         batch_size=batch_size,\n",
    "         epochs = max_epochs,\n",
    "            callbacks = [early_stopping],\n",
    "         validation_data =(validation_inputs,validation_targets),\n",
    "         verbose=2)"
   ]
  },
  {
   "cell_type": "markdown",
   "metadata": {},
   "source": [
    "#### Test the model"
   ]
  },
  {
   "cell_type": "code",
   "execution_count": 31,
   "metadata": {},
   "outputs": [],
   "source": [
    "test_loss, test_accuracy = model.evaluate(test_inputs,test_targets,verbose=0)"
   ]
  },
  {
   "cell_type": "code",
   "execution_count": 32,
   "metadata": {},
   "outputs": [
    {
     "name": "stdout",
     "output_type": "stream",
     "text": [
      "\n",
      " Test loss: 0.34. Test accuracy: 82.59%\n"
     ]
    }
   ],
   "source": [
    "print('\\n Test loss: {0:.2f}. Test accuracy: {1:.2f}%'.format(test_loss,test_accuracy*100.))"
   ]
  },
  {
   "cell_type": "code",
   "execution_count": null,
   "metadata": {},
   "outputs": [],
   "source": []
  }
 ],
 "metadata": {
  "kernelspec": {
   "display_name": "Python 3",
   "language": "python",
   "name": "python3"
  },
  "language_info": {
   "codemirror_mode": {
    "name": "ipython",
    "version": 3
   },
   "file_extension": ".py",
   "mimetype": "text/x-python",
   "name": "python",
   "nbconvert_exporter": "python",
   "pygments_lexer": "ipython3",
   "version": "3.7.6"
  }
 },
 "nbformat": 4,
 "nbformat_minor": 2
}
